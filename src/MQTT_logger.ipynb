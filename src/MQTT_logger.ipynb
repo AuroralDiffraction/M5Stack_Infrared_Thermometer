{
 "cells": [
  {
   "cell_type": "code",
   "execution_count": null,
   "metadata": {},
   "outputs": [
    {
     "name": "stdout",
     "output_type": "stream",
     "text": [
      "Connected with result code 0\n",
      "data :b'2020-05-13 06:32:09 21.73*C 25.60*C 38.60% 80998.61Pa 25.070397 102.705336 \\r\\n'\n",
      "data :b'2020-05-13 06:32:28 21.89*C 26.30*C 38.90% 80999.27Pa 25.070462 102.705372 \\r\\n'\n",
      "data :b'2020-05-13 06:34:47 27.93*C 26.20*C 39.50% 80999.20Pa No GPS \\r\\n'\n",
      "data :b'2020-05-13 06:35:08 27.93*C 27.50*C 36.70% 80997.00Pa No GPS \\r\\n'\n",
      "data :b'2020-05-13 06:38:55 27.61*C 27.90*C 30.40% 80999.18Pa No GPS \\r\\n'\n",
      "data :b'2020-05-13 06:40:02 27.59*C 32.30*C 29.40% 81001.89Pa No GPS \\r\\n'\n",
      "data :b'2020-05-13 06:46:30 25.97*C 33.30*C 26.70% 81002.41Pa No GPS \\r\\n'\n",
      "data :b'2020-05-13 06:46:40 42.13*C 36.50*C 27.70% 81001.83Pa No GPS \\r\\n'\n",
      "data :b'2020-05-13 06:46:52 35.37*C 36.80*C 27.40% 80999.22Pa No GPS \\r\\n'\n",
      "data :b'2020-05-13 06:49:56 25.75*C 36.60*C 29.10% 81010.55Pa No GPS \\r\\n'\n",
      "data :b'Time NULL \\r\\n25.75*C 33.40*C 29.50% 81011.62Pa No GPS \\r\\n'\n",
      "data :b'2020-05-13 06:51:42 25.81*C 33.20*C 29.50% 81013.18Pa No GPS \\r\\n'\n",
      "data :b'2020-05-13 06:59:11 26.37*C 33.00*C 30.50% 81019.47Pa No GPS \\r\\n'\n",
      "data :b'2020-05-13 06:59:36 41.81*C 31.20*C 31.00% 81020.39Pa No GPS \\r\\n'\n",
      "data :b'2020-05-13 07:04:36 31.75*C 31.30*C 31.20% 81023.59Pa No GPS \\r\\n'\n",
      "data :b'2020-05-13 07:04:43 33.13*C 31.20*C 31.30% 81022.75Pa No GPS \\r\\n'\n",
      "data :b'2020-05-13 07:05:11 32.99*C 31.20*C 31.40% 81028.58Pa No GPS \\r\\n'\n",
      "data :b'2020-05-13 07:05:26 34.71*C 31.20*C 33.40% 81027.84Pa No GPS \\r\\n'\n",
      "data :b'2020-05-13 07:05:31 34.39*C 31.20*C 34.30% 81028.64Pa No GPS \\r\\n'\n",
      "data :b'2020-05-13 07:05:42 44.93*C 31.20*C 34.30% 81027.75Pa No GPS \\r\\n'\n",
      "data :b'2020-05-13 07:06:18 34.01*C 31.20*C 32.00% 81029.77Pa No GPS \\r\\n'\n",
      "data :b'2020-05-13 07:06:23 34.39*C 31.30*C 32.00% 81025.72Pa No GPS \\r\\n'\n",
      "data :b'2020-05-13 07:06:29 25.59*C 31.40*C 32.00% 81027.52Pa No GPS \\r\\n'\n",
      "data :b'2020-05-13 07:06:36 34.45*C 31.40*C 32.00% 81027.78Pa No GPS \\r\\n'\n",
      "data :b'2020-05-13 07:06:53 43.89*C 31.20*C 32.00% 81026.47Pa No GPS \\r\\n'\n",
      "data :b'2020-05-13 07:08:08 34.55*C 31.40*C 32.00% 81028.81Pa No GPS \\r\\n'\n",
      "data :b'2020-05-13 07:08:26 44.63*C 31.50*C 32.00% 81029.83Pa No GPS \\r\\n'\n",
      "data :b'2020-05-13 07:08:58 35.23*C 31.50*C 32.00% 81031.34Pa No GPS \\r\\n'\n",
      "data :b'2020-05-13 07:09:05 36.23*C 31.60*C 32.00% 81032.44Pa No GPS \\r\\n'\n",
      "data :b'2020-05-13 07:09:11 35.35*C 31.50*C 32.00% 81032.29Pa No GPS \\r\\n'\n",
      "data :b'2020-05-13 07:22:15 25.47*C 31.60*C 33.60% 81043.09Pa 25.070161 102.705834 \\r\\n'\n",
      "Connected with result code 0\n"
     ]
    }
   ],
   "source": [
    "import paho.mqtt.client as mqtt \n",
    " \n",
    "def on_connect(client, userdata, flags, rc):\n",
    "    print(\"Connected with result code \"+str(rc))\n",
    "    client.subscribe(\"topics\")\n",
    " \n",
    " \n",
    "def on_message(client, userdata, msg):\n",
    "    print(msg.topic+\" \" + \":\" + str(msg.payload))\n",
    "    fo = open(\"data_log.txt\", \"a\")\n",
    "    fo.write(str(msg.payload))\n",
    "    fo.write('\\n')\n",
    "    fo.close()\n",
    " \n",
    "client = mqtt.Client()\n",
    "client.username_pw_set(\"MQTT_Username\", \"MQTT_Password\")\n",
    "client.on_connect = on_connect\n",
    "client.on_message = on_message\n",
    "client.connect(\"MQTT_Server_IP\", 1883, 60)\n",
    "client.loop_forever()"
   ]
  },
  {
   "cell_type": "code",
   "execution_count": null,
   "metadata": {},
   "outputs": [],
   "source": []
  },
  {
   "cell_type": "code",
   "execution_count": null,
   "metadata": {},
   "outputs": [],
   "source": []
  }
 ],
 "metadata": {
  "kernelspec": {
   "display_name": "Python 3",
   "language": "python",
   "name": "python3"
  },
  "language_info": {
   "codemirror_mode": {
    "name": "ipython",
    "version": 3
   },
   "file_extension": ".py",
   "mimetype": "text/x-python",
   "name": "python",
   "nbconvert_exporter": "python",
   "pygments_lexer": "ipython3",
   "version": "3.7.0"
  }
 },
 "nbformat": 4,
 "nbformat_minor": 4
}
