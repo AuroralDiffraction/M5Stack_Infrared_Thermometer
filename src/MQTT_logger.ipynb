{
 "cells": [
  {
   "cell_type": "code",
   "execution_count": null,
   "metadata": {},
   "outputs": [],
   "source": [
    "import paho.mqtt.client as mqtt \n",
    " \n",
    "def on_connect(client, userdata, flags, rc):\n",
    "    print(\"Connected with result code \"+str(rc))\n",
    "    client.subscribe(\"topics\")\n",
    " \n",
    " \n",
    "def on_message(client, userdata, msg):\n",
    "    print(msg.topic+\" \" + \":\" + str(msg.payload))\n",
    "    fo = open(\"data_log.txt\", \"a\")\n",
    "    fo.write(str(msg.payload))\n",
    "    fo.write('\\n')\n",
    "    fo.close()\n",
    " \n",
    "client = mqtt.Client()\n",
    "client.username_pw_set(\"MQTT_Username\", \"MQTT_Password\")\n",
    "client.on_connect = on_connect\n",
    "client.on_message = on_message\n",
    "client.connect(\"MQTT_Server_IP\", 1883, 60)\n",
    "client.loop_forever()"
   ]
  },
  {
   "cell_type": "code",
   "execution_count": null,
   "metadata": {},
   "outputs": [],
   "source": []
  },
  {
   "cell_type": "code",
   "execution_count": null,
   "metadata": {},
   "outputs": [],
   "source": []
  }
 ],
 "metadata": {
  "kernelspec": {
   "display_name": "Python 3",
   "language": "python",
   "name": "python3"
  },
  "language_info": {
   "codemirror_mode": {
    "name": "ipython",
    "version": 3
   },
   "file_extension": ".py",
   "mimetype": "text/x-python",
   "name": "python",
   "nbconvert_exporter": "python",
   "pygments_lexer": "ipython3",
   "version": "3.7.0"
  }
 },
 "nbformat": 4,
 "nbformat_minor": 4
}
